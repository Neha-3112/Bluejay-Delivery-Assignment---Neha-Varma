{
 "cells": [
  {
   "cell_type": "markdown",
   "id": "a14c6558",
   "metadata": {},
   "source": [
    "# ASSIGNMENT SOLUTION - NEHA VARMA"
   ]
  },
  {
   "cell_type": "code",
   "execution_count": 1,
   "id": "d5153d6a",
   "metadata": {},
   "outputs": [],
   "source": [
    "#using pandas library for data manipulation and datetime for handling date and time objects\n",
    "import pandas as pd\n",
    "from datetime import datetime, timedelta"
   ]
  },
  {
   "cell_type": "code",
   "execution_count": 2,
   "id": "638a1143",
   "metadata": {},
   "outputs": [],
   "source": [
    "#reading the excel file into a pandas dataframe\n",
    "df = pd.read_excel('Assignment_Timecard.xlsx')"
   ]
  },
  {
   "cell_type": "markdown",
   "id": "4c549203",
   "metadata": {},
   "source": [
    "PERFORMING PRE-PROCESSING AND EDA ON OUR DATASET TO ASSESS THE QUALITY OF DATA AND BUILD A GOOD MODEL AND GENERATE THE CORRECT OUTPUT"
   ]
  },
  {
   "cell_type": "code",
   "execution_count": 3,
   "id": "010ee073",
   "metadata": {},
   "outputs": [
    {
     "data": {
      "text/html": [
       "<div>\n",
       "<style scoped>\n",
       "    .dataframe tbody tr th:only-of-type {\n",
       "        vertical-align: middle;\n",
       "    }\n",
       "\n",
       "    .dataframe tbody tr th {\n",
       "        vertical-align: top;\n",
       "    }\n",
       "\n",
       "    .dataframe thead th {\n",
       "        text-align: right;\n",
       "    }\n",
       "</style>\n",
       "<table border=\"1\" class=\"dataframe\">\n",
       "  <thead>\n",
       "    <tr style=\"text-align: right;\">\n",
       "      <th></th>\n",
       "      <th>Position ID</th>\n",
       "      <th>Position Status</th>\n",
       "      <th>Time</th>\n",
       "      <th>Time Out</th>\n",
       "      <th>Timecard Hours (as Time)</th>\n",
       "      <th>Pay Cycle Start Date</th>\n",
       "      <th>Pay Cycle End Date</th>\n",
       "      <th>Employee Name</th>\n",
       "      <th>File Number</th>\n",
       "      <th>Unnamed: 9</th>\n",
       "      <th>Unnamed: 10</th>\n",
       "    </tr>\n",
       "  </thead>\n",
       "  <tbody>\n",
       "    <tr>\n",
       "      <th>0</th>\n",
       "      <td>WFS000054</td>\n",
       "      <td>Active</td>\n",
       "      <td>NaT</td>\n",
       "      <td>NaT</td>\n",
       "      <td>NaN</td>\n",
       "      <td>NaT</td>\n",
       "      <td>NaT</td>\n",
       "      <td>SiWgh, PraGhjEM</td>\n",
       "      <td>54</td>\n",
       "      <td>NaN</td>\n",
       "      <td>NaN</td>\n",
       "    </tr>\n",
       "    <tr>\n",
       "      <th>1</th>\n",
       "      <td>WFS000065</td>\n",
       "      <td>Active</td>\n",
       "      <td>2023-09-12 10:08:00</td>\n",
       "      <td>2023-09-12 13:53:00</td>\n",
       "      <td>3:45</td>\n",
       "      <td>2023-09-10</td>\n",
       "      <td>2023-09-23</td>\n",
       "      <td>REsaXiaWE, XAis</td>\n",
       "      <td>65</td>\n",
       "      <td>NaN</td>\n",
       "      <td>NaN</td>\n",
       "    </tr>\n",
       "    <tr>\n",
       "      <th>2</th>\n",
       "      <td>WFS000065</td>\n",
       "      <td>Active</td>\n",
       "      <td>2023-09-12 14:23:00</td>\n",
       "      <td>2023-09-12 19:02:00</td>\n",
       "      <td>4:39</td>\n",
       "      <td>2023-09-10</td>\n",
       "      <td>2023-09-23</td>\n",
       "      <td>REsaXiaWE, XAis</td>\n",
       "      <td>65</td>\n",
       "      <td>NaN</td>\n",
       "      <td>NaN</td>\n",
       "    </tr>\n",
       "    <tr>\n",
       "      <th>3</th>\n",
       "      <td>WFS000065</td>\n",
       "      <td>Active</td>\n",
       "      <td>2023-09-13 10:08:00</td>\n",
       "      <td>2023-09-13 14:20:00</td>\n",
       "      <td>4:12</td>\n",
       "      <td>2023-09-10</td>\n",
       "      <td>2023-09-23</td>\n",
       "      <td>REsaXiaWE, XAis</td>\n",
       "      <td>65</td>\n",
       "      <td>NaN</td>\n",
       "      <td>NaN</td>\n",
       "    </tr>\n",
       "    <tr>\n",
       "      <th>4</th>\n",
       "      <td>WFS000065</td>\n",
       "      <td>Active</td>\n",
       "      <td>2023-09-13 14:50:00</td>\n",
       "      <td>2023-09-13 20:44:00</td>\n",
       "      <td>5:54</td>\n",
       "      <td>2023-09-10</td>\n",
       "      <td>2023-09-23</td>\n",
       "      <td>REsaXiaWE, XAis</td>\n",
       "      <td>65</td>\n",
       "      <td>NaN</td>\n",
       "      <td>NaN</td>\n",
       "    </tr>\n",
       "  </tbody>\n",
       "</table>\n",
       "</div>"
      ],
      "text/plain": [
       "  Position ID Position Status                Time            Time Out  \\\n",
       "0   WFS000054          Active                 NaT                 NaT   \n",
       "1   WFS000065          Active 2023-09-12 10:08:00 2023-09-12 13:53:00   \n",
       "2   WFS000065          Active 2023-09-12 14:23:00 2023-09-12 19:02:00   \n",
       "3   WFS000065          Active 2023-09-13 10:08:00 2023-09-13 14:20:00   \n",
       "4   WFS000065          Active 2023-09-13 14:50:00 2023-09-13 20:44:00   \n",
       "\n",
       "  Timecard Hours (as Time) Pay Cycle Start Date Pay Cycle End Date  \\\n",
       "0                      NaN                  NaT                NaT   \n",
       "1                     3:45           2023-09-10         2023-09-23   \n",
       "2                     4:39           2023-09-10         2023-09-23   \n",
       "3                     4:12           2023-09-10         2023-09-23   \n",
       "4                     5:54           2023-09-10         2023-09-23   \n",
       "\n",
       "     Employee Name  File Number  Unnamed: 9 Unnamed: 10  \n",
       "0  SiWgh, PraGhjEM           54         NaN         NaN  \n",
       "1  REsaXiaWE, XAis           65         NaN         NaN  \n",
       "2  REsaXiaWE, XAis           65         NaN         NaN  \n",
       "3  REsaXiaWE, XAis           65         NaN         NaN  \n",
       "4  REsaXiaWE, XAis           65         NaN         NaN  "
      ]
     },
     "execution_count": 3,
     "metadata": {},
     "output_type": "execute_result"
    }
   ],
   "source": [
    "#displaying top 5 observations of the dataset using head() function\n",
    "df.head()"
   ]
  },
  {
   "cell_type": "code",
   "execution_count": 4,
   "id": "bada772b",
   "metadata": {},
   "outputs": [
    {
     "data": {
      "text/html": [
       "<div>\n",
       "<style scoped>\n",
       "    .dataframe tbody tr th:only-of-type {\n",
       "        vertical-align: middle;\n",
       "    }\n",
       "\n",
       "    .dataframe tbody tr th {\n",
       "        vertical-align: top;\n",
       "    }\n",
       "\n",
       "    .dataframe thead th {\n",
       "        text-align: right;\n",
       "    }\n",
       "</style>\n",
       "<table border=\"1\" class=\"dataframe\">\n",
       "  <thead>\n",
       "    <tr style=\"text-align: right;\">\n",
       "      <th></th>\n",
       "      <th>Position ID</th>\n",
       "      <th>Position Status</th>\n",
       "      <th>Time</th>\n",
       "      <th>Time Out</th>\n",
       "      <th>Timecard Hours (as Time)</th>\n",
       "      <th>Pay Cycle Start Date</th>\n",
       "      <th>Pay Cycle End Date</th>\n",
       "      <th>Employee Name</th>\n",
       "      <th>File Number</th>\n",
       "      <th>Unnamed: 9</th>\n",
       "      <th>Unnamed: 10</th>\n",
       "    </tr>\n",
       "  </thead>\n",
       "  <tbody>\n",
       "    <tr>\n",
       "      <th>1481</th>\n",
       "      <td>WFS000589</td>\n",
       "      <td>Active</td>\n",
       "      <td>2023-09-21 09:56:00</td>\n",
       "      <td>2023-09-21 14:30:00</td>\n",
       "      <td>4:34</td>\n",
       "      <td>2023-09-10</td>\n",
       "      <td>2023-09-23</td>\n",
       "      <td>WgAyeW, RayCEWd</td>\n",
       "      <td>589</td>\n",
       "      <td>NaN</td>\n",
       "      <td>NaN</td>\n",
       "    </tr>\n",
       "    <tr>\n",
       "      <th>1482</th>\n",
       "      <td>WFS000589</td>\n",
       "      <td>Active</td>\n",
       "      <td>2023-09-21 15:00:01</td>\n",
       "      <td>2023-09-21 19:16:05</td>\n",
       "      <td>4:16</td>\n",
       "      <td>2023-09-10</td>\n",
       "      <td>2023-09-23</td>\n",
       "      <td>WgAyeW, RayCEWd</td>\n",
       "      <td>589</td>\n",
       "      <td>NaN</td>\n",
       "      <td>NaN</td>\n",
       "    </tr>\n",
       "    <tr>\n",
       "      <th>1483</th>\n",
       "      <td>WFS000591</td>\n",
       "      <td>Active</td>\n",
       "      <td>NaT</td>\n",
       "      <td>NaT</td>\n",
       "      <td>NaN</td>\n",
       "      <td>NaT</td>\n",
       "      <td>NaT</td>\n",
       "      <td>ArveXE RECerE, AWdres JesAs</td>\n",
       "      <td>591</td>\n",
       "      <td>NaN</td>\n",
       "      <td>NaN</td>\n",
       "    </tr>\n",
       "  </tbody>\n",
       "</table>\n",
       "</div>"
      ],
      "text/plain": [
       "     Position ID Position Status                Time            Time Out  \\\n",
       "1481   WFS000589          Active 2023-09-21 09:56:00 2023-09-21 14:30:00   \n",
       "1482   WFS000589          Active 2023-09-21 15:00:01 2023-09-21 19:16:05   \n",
       "1483   WFS000591          Active                 NaT                 NaT   \n",
       "\n",
       "     Timecard Hours (as Time) Pay Cycle Start Date Pay Cycle End Date  \\\n",
       "1481                     4:34           2023-09-10         2023-09-23   \n",
       "1482                     4:16           2023-09-10         2023-09-23   \n",
       "1483                      NaN                  NaT                NaT   \n",
       "\n",
       "                    Employee Name  File Number  Unnamed: 9 Unnamed: 10  \n",
       "1481              WgAyeW, RayCEWd          589         NaN         NaN  \n",
       "1482              WgAyeW, RayCEWd          589         NaN         NaN  \n",
       "1483  ArveXE RECerE, AWdres JesAs          591         NaN         NaN  "
      ]
     },
     "execution_count": 4,
     "metadata": {},
     "output_type": "execute_result"
    }
   ],
   "source": [
    "#checking we got the whole data by checking last 3 observations using tail() function\n",
    "df.tail(3)"
   ]
  },
  {
   "cell_type": "code",
   "execution_count": 5,
   "id": "c4649ecd",
   "metadata": {},
   "outputs": [
    {
     "name": "stdout",
     "output_type": "stream",
     "text": [
      "<class 'pandas.core.frame.DataFrame'>\n",
      "RangeIndex: 1484 entries, 0 to 1483\n",
      "Data columns (total 11 columns):\n",
      " #   Column                    Non-Null Count  Dtype         \n",
      "---  ------                    --------------  -----         \n",
      " 0   Position ID               1484 non-null   object        \n",
      " 1   Position Status           1484 non-null   object        \n",
      " 2   Time                      1474 non-null   datetime64[ns]\n",
      " 3   Time Out                  1470 non-null   datetime64[ns]\n",
      " 4   Timecard Hours (as Time)  1474 non-null   object        \n",
      " 5   Pay Cycle Start Date      1474 non-null   datetime64[ns]\n",
      " 6   Pay Cycle End Date        1474 non-null   datetime64[ns]\n",
      " 7   Employee Name             1484 non-null   object        \n",
      " 8   File Number               1484 non-null   int64         \n",
      " 9   Unnamed: 9                0 non-null      float64       \n",
      " 10  Unnamed: 10               1 non-null      object        \n",
      "dtypes: datetime64[ns](4), float64(1), int64(1), object(5)\n",
      "memory usage: 127.7+ KB\n"
     ]
    }
   ],
   "source": [
    "#checking the datatype of each object in our dataset\n",
    "df.info()"
   ]
  },
  {
   "cell_type": "code",
   "execution_count": 6,
   "id": "5c25bc23",
   "metadata": {},
   "outputs": [
    {
     "data": {
      "text/plain": [
       "Position ID                    0\n",
       "Position Status                0\n",
       "Time                          10\n",
       "Time Out                      14\n",
       "Timecard Hours (as Time)      10\n",
       "Pay Cycle Start Date          10\n",
       "Pay Cycle End Date            10\n",
       "Employee Name                  0\n",
       "File Number                    0\n",
       "Unnamed: 9                  1484\n",
       "Unnamed: 10                 1483\n",
       "dtype: int64"
      ]
     },
     "execution_count": 6,
     "metadata": {},
     "output_type": "execute_result"
    }
   ],
   "source": [
    "#indentifying null values in each attribute\n",
    "df.isnull().sum()"
   ]
  },
  {
   "cell_type": "code",
   "execution_count": 7,
   "id": "ac52438c",
   "metadata": {},
   "outputs": [
    {
     "name": "stdout",
     "output_type": "stream",
     "text": [
      "<class 'pandas.core.frame.DataFrame'>\n",
      "RangeIndex: 1484 entries, 0 to 1483\n",
      "Data columns (total 9 columns):\n",
      " #   Column                    Non-Null Count  Dtype         \n",
      "---  ------                    --------------  -----         \n",
      " 0   Position ID               1484 non-null   object        \n",
      " 1   Position Status           1484 non-null   object        \n",
      " 2   Time                      1474 non-null   datetime64[ns]\n",
      " 3   Time Out                  1470 non-null   datetime64[ns]\n",
      " 4   Timecard Hours (as Time)  1474 non-null   object        \n",
      " 5   Pay Cycle Start Date      1474 non-null   datetime64[ns]\n",
      " 6   Pay Cycle End Date        1474 non-null   datetime64[ns]\n",
      " 7   Employee Name             1484 non-null   object        \n",
      " 8   File Number               1484 non-null   int64         \n",
      "dtypes: datetime64[ns](4), int64(1), object(4)\n",
      "memory usage: 104.5+ KB\n"
     ]
    }
   ],
   "source": [
    "#since there are 2 unnamed columns, assuming they don't have any predictive power to predict the output, we drop them from our dataset\n",
    "df = df.drop(['Unnamed: 9' , 'Unnamed: 10'] , axis = 1)\n",
    "df.info()"
   ]
  },
  {
   "cell_type": "code",
   "execution_count": 8,
   "id": "e21697d7",
   "metadata": {},
   "outputs": [
    {
     "name": "stdout",
     "output_type": "stream",
     "text": [
      "<class 'pandas.core.frame.DataFrame'>\n",
      "Index: 1470 entries, 1 to 1482\n",
      "Data columns (total 9 columns):\n",
      " #   Column                    Non-Null Count  Dtype         \n",
      "---  ------                    --------------  -----         \n",
      " 0   Position ID               1470 non-null   object        \n",
      " 1   Position Status           1470 non-null   object        \n",
      " 2   Time                      1470 non-null   datetime64[ns]\n",
      " 3   Time Out                  1470 non-null   datetime64[ns]\n",
      " 4   Timecard Hours (as Time)  1470 non-null   object        \n",
      " 5   Pay Cycle Start Date      1470 non-null   datetime64[ns]\n",
      " 6   Pay Cycle End Date        1470 non-null   datetime64[ns]\n",
      " 7   Employee Name             1470 non-null   object        \n",
      " 8   File Number               1470 non-null   int64         \n",
      "dtypes: datetime64[ns](4), int64(1), object(4)\n",
      "memory usage: 114.8+ KB\n"
     ]
    }
   ],
   "source": [
    "#handling the missing data by dropping the rows with missing values in relevant columns\n",
    "df = df.dropna(subset = ['Time' , 'Time Out' , 'Timecard Hours (as Time)'])\n",
    "df.info()"
   ]
  },
  {
   "cell_type": "code",
   "execution_count": 9,
   "id": "f0924cbf",
   "metadata": {},
   "outputs": [],
   "source": [
    "#calculating for employess who have worked for 7 consecutive days\n",
    "\n",
    "#calculating no. of consecutive days that each employee worked using the diff() function on Time attribute\n",
    "#grouping it by Employee Name and applying lambda function to check if there is 1 day difference \n",
    "con_days_df = df.groupby('Employee Name').apply(lambda group: group['Time'].diff().dt.days == 1).groupby('Employee Name').cumsum()\n",
    "\n",
    "#extracting employees who have worked for 7 consecutive days\n",
    "sev_con_days_df = con_days_df[con_days_df == 7].index.get_level_values('Employee Name').tolist()"
   ]
  },
  {
   "cell_type": "code",
   "execution_count": 10,
   "id": "1d9fb430",
   "metadata": {},
   "outputs": [],
   "source": [
    "%%capture captured_output1\n",
    "#printing name and position of employee who has worked for 7 consecutive days\n",
    "print(\"name and position of employee who has worked for 7 consecutive days \\n\")\n",
    "for emp in sev_con_days_df:\n",
    "    emp_row = df[df['Employee Name'] == emp].iloc[0]\n",
    "    print(f\"Name: {emp} , Position: {emp_row['Position ID']}\")"
   ]
  },
  {
   "cell_type": "code",
   "execution_count": 11,
   "id": "76c92a54",
   "metadata": {},
   "outputs": [],
   "source": [
    "#calculating for emp who have <10 hrs of time b/w shifts but >1 hr\n",
    "df['Time'] = pd.to_datetime(df['Time'])\n",
    "df['Time Out'] = pd.to_datetime(df['Time Out'])\n",
    "ten_shift_emp = df[(df['Time'].diff() < timedelta(hours = 10))\n",
    "                  & (df['Time'].diff() > timedelta(hours = 1))]['Employee Name'].unique()"
   ]
  },
  {
   "cell_type": "code",
   "execution_count": 12,
   "id": "1e3b9f58",
   "metadata": {
    "scrolled": false
   },
   "outputs": [],
   "source": [
    "%%capture captured_output2\n",
    "#printing name and position of employee who have <10 hrs of time b/w shifts but >1 hr\n",
    "print(\"name and position of employee who have <10 hrs of time b/w shifts but >1 hr \\n\")\n",
    "for emp in ten_shift_emp:\n",
    "    print(f\"Name: {emp} \\n Position: {df[df['Employee Name'] == emp]['Position ID'].iloc[0]}\")"
   ]
  },
  {
   "cell_type": "code",
   "execution_count": 13,
   "id": "0c9c8cc3",
   "metadata": {
    "scrolled": true
   },
   "outputs": [],
   "source": [
    "#calculating for emp who worked for >14 hrs in a single shift\n",
    "#converting from string format to datetime format\n",
    "df['Timecard Hours (as Time)'] = pd.to_datetime(df['Timecard Hours (as Time)'], format = '%H:%M', errors = 'coerce').dt.hour * 60 + pd.to_datetime(df['Timecard Hours (as Time)'], format = '%H:%M', errors = 'coerce').dt.minute\n",
    "long_shift_emp = df[df['Timecard Hours (as Time)'] > 14 * 60]['Employee Name'].unique()"
   ]
  },
  {
   "cell_type": "code",
   "execution_count": 14,
   "id": "82a9dea9",
   "metadata": {
    "scrolled": true
   },
   "outputs": [],
   "source": [
    "%%capture captured_output3\n",
    "#printing name and position of employee who worked for >14 hrs in a single shift\n",
    "print(\"name and position of employee who worked for >14 hrs in a single shift \\n\")\n",
    "for emp in long_shift_emp:\n",
    "        print(f\"Name: {emp} \\n Position: {df[df['Employee Name'] == emp]['Position ID'].iloc[0]}\")"
   ]
  },
  {
   "cell_type": "code",
   "execution_count": 15,
   "id": "75d1d206",
   "metadata": {},
   "outputs": [],
   "source": [
    "with open('output.txt', 'w') as f:\n",
    "    f.write(captured_output1.stdout)\n",
    "    f.write(captured_output2.stdout)\n",
    "    f.write(captured_output3.stdout)"
   ]
  }
 ],
 "metadata": {
  "kernelspec": {
   "display_name": "Python 3 (ipykernel)",
   "language": "python",
   "name": "python3"
  },
  "language_info": {
   "codemirror_mode": {
    "name": "ipython",
    "version": 3
   },
   "file_extension": ".py",
   "mimetype": "text/x-python",
   "name": "python",
   "nbconvert_exporter": "python",
   "pygments_lexer": "ipython3",
   "version": "3.11.5"
  }
 },
 "nbformat": 4,
 "nbformat_minor": 5
}
